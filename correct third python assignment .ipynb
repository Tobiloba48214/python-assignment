{
 "cells": [
  {
   "cell_type": "code",
   "execution_count": 1,
   "id": "29fa2b72",
   "metadata": {},
   "outputs": [
    {
     "data": {
      "text/plain": [
       "{1, 2, 3, 4, 5}"
      ]
     },
     "execution_count": 1,
     "metadata": {},
     "output_type": "execute_result"
    }
   ],
   "source": [
    "info = [1,1,1,1,2,2,3,3,3,3,4,5]\n",
    "set(info)"
   ]
  },
  {
   "cell_type": "code",
   "execution_count": 2,
   "id": "acbb2a13",
   "metadata": {},
   "outputs": [
    {
     "name": "stdout",
     "output_type": "stream",
     "text": [
      "1\n",
      "2\n",
      "3\n",
      "4\n",
      "5\n",
      "6\n",
      "7\n",
      "8\n",
      "9\n",
      "10\n",
      "11\n",
      "12\n",
      "13\n",
      "14\n",
      "15\n",
      "16\n",
      "17\n",
      "18\n",
      "19\n",
      "20\n",
      "21\n",
      "22\n",
      "23\n",
      "24\n",
      "25\n",
      "26\n",
      "27\n",
      "28\n",
      "29\n",
      "30\n",
      "31\n",
      "32\n",
      "33\n",
      "34\n",
      "35\n",
      "36\n",
      "37\n",
      "38\n",
      "39\n",
      "40\n",
      "41\n",
      "42\n",
      "43\n",
      "44\n",
      "45\n",
      "46\n",
      "47\n",
      "48\n",
      "49\n",
      "50\n",
      "51\n",
      "52\n",
      "53\n",
      "54\n",
      "55\n",
      "56\n",
      "57\n",
      "58\n",
      "59\n",
      "60\n",
      "61\n",
      "62\n",
      "63\n",
      "64\n",
      "65\n",
      "66\n",
      "67\n",
      "68\n",
      "69\n",
      "70\n",
      "71\n",
      "72\n",
      "73\n",
      "74\n",
      "75\n",
      "76\n",
      "77\n",
      "78\n",
      "79\n",
      "80\n",
      "81\n",
      "82\n",
      "83\n",
      "84\n",
      "85\n",
      "86\n",
      "87\n",
      "88\n",
      "89\n",
      "90\n",
      "91\n",
      "92\n",
      "93\n",
      "94\n",
      "95\n",
      "96\n",
      "97\n",
      "98\n",
      "99\n"
     ]
    }
   ],
   "source": [
    "for i in range(1,100):\n",
    "    print(i)"
   ]
  },
  {
   "cell_type": "code",
   "execution_count": 3,
   "id": "7295f632",
   "metadata": {},
   "outputs": [
    {
     "name": "stdout",
     "output_type": "stream",
     "text": [
      "FizzBuzz\n",
      "FizzBuzz\n",
      "FizzBuzz\n",
      "FizzBuzz\n",
      "FizzBuzz\n",
      "FizzBuzz\n"
     ]
    }
   ],
   "source": [
    "for i in range(1,101):\n",
    "    if i % 3 == 0 and i % 5 == 0:\n",
    "        print(\"FizzBuzz\")"
   ]
  },
  {
   "cell_type": "code",
   "execution_count": 5,
   "id": "4de864c6",
   "metadata": {},
   "outputs": [
    {
     "name": "stdout",
     "output_type": "stream",
     "text": [
      "Buzz\n"
     ]
    }
   ],
   "source": [
    "if i % 3 == 0 and i % 5 == 0:\n",
    "        print(\"FizzBuzz\")\n",
    "elif i % 3 == 0:\n",
    "    print(\"Fizz\")\n",
    "elif i % 5 == 0:\n",
    "    print(\"Buzz\")\n",
    "else:\n",
    "    print(i)"
   ]
  },
  {
   "cell_type": "code",
   "execution_count": 7,
   "id": "59285e58",
   "metadata": {},
   "outputs": [
    {
     "name": "stdout",
     "output_type": "stream",
     "text": [
      "Object `right` not found.\n"
     ]
    }
   ],
   "source": [
    " words = 'Python is not hard. You agree with me right?"
   ]
  },
  {
   "cell_type": "code",
   "execution_count": null,
   "id": "cf731338",
   "metadata": {},
   "outputs": [],
   "source": [
    "words = 'Python is not hard. You agree with me right"
   ]
  },
  {
   "cell_type": "code",
   "execution_count": 10,
   "id": "b8a854cb",
   "metadata": {},
   "outputs": [],
   "source": [
    "sentence = 'Print every word in this sentence above that has an even number of letters'\n"
   ]
  },
  {
   "cell_type": "code",
   "execution_count": 11,
   "id": "4beb6923",
   "metadata": {},
   "outputs": [],
   "source": [
    "words = sentence.split()"
   ]
  },
  {
   "cell_type": "code",
   "execution_count": 12,
   "id": "7bd7a295",
   "metadata": {},
   "outputs": [
    {
     "name": "stdout",
     "output_type": "stream",
     "text": [
      "word\n",
      "in\n",
      "this\n",
      "sentence\n",
      "that\n",
      "an\n",
      "even\n",
      "number\n",
      "of\n"
     ]
    }
   ],
   "source": [
    "for word in words:\n",
    "    if len(word) % 2 == 0:\n",
    "        print(word)"
   ]
  },
  {
   "cell_type": "code",
   "execution_count": 1,
   "id": "81d7aa0a",
   "metadata": {},
   "outputs": [
    {
     "name": "stdout",
     "output_type": "stream",
     "text": [
      "1\n",
      "3\n",
      "6\n",
      "10\n",
      "15\n"
     ]
    }
   ],
   "source": [
    "numbers = [1,2,3,4,5]\n",
    "numbers = [1, 2, 3, 4, 5]\n",
    "total = 0\n",
    "for number in numbers:\n",
    "    if isinstance(number, (int, float)):\n",
    "        total += number\n",
    "        print(total)"
   ]
  },
  {
   "cell_type": "code",
   "execution_count": 3,
   "id": "0b809da4",
   "metadata": {},
   "outputs": [],
   "source": [
    "numbers = [1,2,3,4,5]"
   ]
  },
  {
   "cell_type": "code",
   "execution_count": 4,
   "id": "d58898b1",
   "metadata": {},
   "outputs": [
    {
     "name": "stdout",
     "output_type": "stream",
     "text": [
      "1\n",
      "3\n",
      "6\n",
      "10\n",
      "15\n"
     ]
    }
   ],
   "source": [
    "total = 0 \n",
    "for number in numbers:\n",
    "    if isinstance(number, (int, float)):\n",
    "        total += number\n",
    "        print(total)"
   ]
  },
  {
   "cell_type": "code",
   "execution_count": 5,
   "id": "9140ca4b",
   "metadata": {},
   "outputs": [
    {
     "name": "stdout",
     "output_type": "stream",
     "text": [
      "[1]\n",
      "[1, 2]\n",
      "[1, 2, 3]\n",
      "[1, 2, 3, 4]\n",
      "[1, 2, 3, 4, 5]\n"
     ]
    }
   ],
   "source": [
    "info = [1,1,1,1,2,2,3,3,3,3,4,5]\n",
    "info = [1, 1, 1, 1, 2, 2, 3, 3, 3, 3, 4, 5]\n",
    "unique_values = []\n",
    "for i in info:\n",
    "    if i not in unique_values:\n",
    "        unique_values.append(i)\n",
    "        print(unique_values)"
   ]
  },
  {
   "cell_type": "code",
   "execution_count": 1,
   "id": "ea1d8e57",
   "metadata": {},
   "outputs": [
    {
     "name": "stdout",
     "output_type": "stream",
     "text": [
      "2 * 1 = 2\n",
      "2 * 2 = 4\n",
      "2 * 3 = 6\n",
      "2 * 4 = 8\n",
      "2 * 5 = 10\n",
      "2 * 6 = 12\n",
      "2 * 7 = 14\n",
      "2 * 8 = 16\n",
      "2 * 9 = 18\n",
      "2 * 10 = 20\n",
      "2 * 11 = 22\n",
      "2 * 12 = 24\n"
     ]
    }
   ],
   "source": [
    "for i in range(1, 13):\n",
    "    print(f\"2 * {i} = {2*i}\")"
   ]
  },
  {
   "cell_type": "code",
   "execution_count": null,
   "id": "86e16b08",
   "metadata": {},
   "outputs": [],
   "source": [
    "# 3.\n",
    "words = 'Python is not hard. You agree with me right?\n",
    "# seperate "
   ]
  },
  {
   "cell_type": "code",
   "execution_count": null,
   "id": "bf5bc9b5",
   "metadata": {},
   "outputs": [],
   "source": [
    "# 5.\n",
    "info = [1,1,1,1,2,2,3,3,3,3,4,5]\n",
    "# go through the items\n",
    "# we store the first item in a basket"
   ]
  }
 ],
 "metadata": {
  "kernelspec": {
   "display_name": "Python 3 (ipykernel)",
   "language": "python",
   "name": "python3"
  },
  "language_info": {
   "codemirror_mode": {
    "name": "ipython",
    "version": 3
   },
   "file_extension": ".py",
   "mimetype": "text/x-python",
   "name": "python",
   "nbconvert_exporter": "python",
   "pygments_lexer": "ipython3",
   "version": "3.9.7"
  }
 },
 "nbformat": 4,
 "nbformat_minor": 5
}
